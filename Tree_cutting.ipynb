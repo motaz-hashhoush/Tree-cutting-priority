{
 "cells": [
  {
   "cell_type": "code",
   "execution_count": 1,
   "metadata": {},
   "outputs": [],
   "source": [
    "from osgeo import gdal\n",
    "from osgeo import ogr\n",
    "import rasterio as rio\n",
    "import numpy as np\n",
    "import os \n",
    "from pprint import pprint"
   ]
  },
  {
   "cell_type": "code",
   "execution_count": 4,
   "metadata": {},
   "outputs": [],
   "source": [
    "data_path = 'data/'\n",
    "output_path = 'raster_output/'\n",
    "raster_norm_path = 'raster_norm/'\n",
    "criteria_file_name = [('CuttingGrids', 'grid', False), ('Communityfeatures', 'weight', True), ('SBNFMortalityt', \"tot_mortal\", False), ('EgressRoutes', 'weight', True), ('PopulatedAreast', \"pop_per_sq\", False), ('DistCircuits', 'shape_leng', True)]\n"
   ]
  },
  {
   "cell_type": "code",
   "execution_count": 188,
   "metadata": {},
   "outputs": [],
   "source": [
    "X_MIN, x_max, y_min, Y_MAX = 522556.47860572586, 528313.1113211802, 3780732.388856534, 3786279.2744338084\n",
    "PIXEL_SIZE =10"
   ]
  },
  {
   "cell_type": "code",
   "execution_count": 9,
   "metadata": {},
   "outputs": [],
   "source": [
    "X_RES = 575\n",
    "Y_RES = 554\n",
    "NO_DATA_VALUE = -9999"
   ]
  },
  {
   "cell_type": "code",
   "execution_count": 10,
   "metadata": {},
   "outputs": [],
   "source": [
    "def calculate_distance(raster_ds):\n",
    "   \n",
    "    band = raster_ds.GetRasterBand(1)\n",
    "    gdal.ComputeProximity(band, band, options=['VALUES=0', 'DISTUNITS=GEO', 'MAXDIST=100'])\n",
    "    "
   ]
  },
  {
   "cell_type": "code",
   "execution_count": 11,
   "metadata": {},
   "outputs": [],
   "source": [
    "def normalization(file_name, folder_path='raster_norm/'):\n",
    "    input_im = gdal.Open(f'raster_output/{file_name}_raster.tif')\n",
    "    input_im_band = input_im.GetRasterBand(1)\n",
    "    stats = input_im_band.GetStatistics(False, True)\n",
    "    min_value, max_value = stats[0], stats[1]\n",
    "    output_im = (f'{folder_path}{file_name}_norm.tif')\n",
    "    driver_tiff = gdal.GetDriverByName('GTiff')\n",
    "    output_im_band = driver_tiff.CreateCopy(output_im, input_im, strict=0)\n",
    "    input_im_band_ar = input_im.GetRasterBand(1).ReadAsArray()\n",
    "\n",
    "    output_im_band_ar = abs(((input_im_band_ar - min_value) / (max_value - min_value))*9)\n",
    "    output_im_band.GetRasterBand(1).WriteArray(output_im_band_ar)\n",
    "    output_im_band = input_im_band_ar = None"
   ]
  },
  {
   "cell_type": "code",
   "execution_count": 12,
   "metadata": {},
   "outputs": [],
   "source": [
    "def vector_to_raster(shpfile_path, output_path, options, distance=False):\n",
    "\n",
    "    # making the shapefile as an object.\n",
    "    vec_ds = ogr.Open(shpfile_path) \n",
    "    # getting layer information of shapefile.\n",
    "    layer = vec_ds.GetLayer() \n",
    "    \n",
    "    # get GeoTiff driver \n",
    "    driver = gdal.GetDriverByName('GTiff')\n",
    "\n",
    "    # passing the filename, x and y direction resolution, no. of bands, new raster.\n",
    "    new_raster = driver.Create(output_path, X_RES, Y_RES, 1, gdal.GDT_Byte)\n",
    "\n",
    "    # transforms between pixel raster space to projection coordinate space.\n",
    "    new_raster.SetGeoTransform((X_MIN, PIXEL_SIZE, 0, Y_MAX, 0, -PIXEL_SIZE))\n",
    "\n",
    "    #get required raster band.\n",
    "    band = new_raster.GetRasterBand(1)\n",
    "    band.SetNoDataValue(NO_DATA_VALUE)\n",
    "    band.FlushCache()\n",
    "\n",
    "\n",
    "    #main conversion method\n",
    "    gdal.RasterizeLayer(new_raster, [1], layer, options=options)\n",
    "    if distance:\n",
    "        calculate_distance(new_raster)\n",
    "        \n",
    "    "
   ]
  },
  {
   "cell_type": "code",
   "execution_count": 114,
   "metadata": {},
   "outputs": [],
   "source": [
    "def grid_vector_to_raster(shpfile_path, output_path, options, distance=False):\n",
    "\n",
    "    # making the shapefile as an object.\n",
    "    vec_ds = ogr.Open(shpfile_path) \n",
    "    # getting layer information of shapefile.\n",
    "    layer = vec_ds.GetLayer() \n",
    "    \n",
    "    x_min, x_max, y_min, y_max = layer.GetExtent()\n",
    "    \n",
    "    x_res = int((x_max - x_min) // PIXEL_SIZE)\n",
    "    y_res= int((y_max - y_min) // PIXEL_SIZE)\n",
    "    print(x_res, y_res)\n",
    "    \n",
    "    # get GeoTiff driver \n",
    "    driver = gdal.GetDriverByName('GTiff')\n",
    "\n",
    "    # passing the filename, x and y direction resolution, no. of bands, new raster.\n",
    "    new_raster = driver.Create(output_path, x_res, y_res, 1, gdal.GDT_Byte)\n",
    "\n",
    "    # transforms between pixel raster space to projection coordinate space.\n",
    "    new_raster.SetGeoTransform((x_min, PIXEL_SIZE, 0, y_max, 0, -PIXEL_SIZE))\n",
    "\n",
    "    #get required raster band.\n",
    "    band = new_raster.GetRasterBand(1)\n",
    "    band.SetNoDataValue(NO_DATA_VALUE)\n",
    "    band.FlushCache()\n",
    "\n",
    "\n",
    "    #main conversion method\n",
    "    gdal.RasterizeLayer(new_raster, [1], layer, options=options)\n",
    "    \n",
    "        \n",
    "    "
   ]
  },
  {
   "cell_type": "markdown",
   "metadata": {},
   "source": [
    "### Convert from vector to raster"
   ]
  },
  {
   "cell_type": "code",
   "execution_count": 13,
   "metadata": {},
   "outputs": [],
   "source": [
    "for file_name, attribute, distance  in criteria_file_name:\n",
    "    vector_to_raster(f'{data_path}{file_name}.shp', f'{output_path}{file_name}_raster.tif', options=[f'ATTRIBUTE={attribute}'], distance=distance)\n",
    "      "
   ]
  },
  {
   "cell_type": "markdown",
   "metadata": {},
   "source": [
    "## Scale data"
   ]
  },
  {
   "cell_type": "code",
   "execution_count": null,
   "metadata": {},
   "outputs": [],
   "source": [
    "for file_name, _, _ in criteria_file_name:\n",
    " normalization(file_name)"
   ]
  },
  {
   "cell_type": "markdown",
   "metadata": {},
   "source": [
    "## Add Weight"
   ]
  },
  {
   "cell_type": "code",
   "execution_count": 15,
   "metadata": {},
   "outputs": [],
   "source": [
    "weight = 0.2"
   ]
  },
  {
   "cell_type": "code",
   "execution_count": 16,
   "metadata": {},
   "outputs": [],
   "source": [
    "rasters = dict()\n",
    "for name in os.listdir(raster_norm_path):\n",
    "   rasters[name.split('_')[0]] = gdal.Open(raster_norm_path+name)\n",
    "    "
   ]
  },
  {
   "cell_type": "code",
   "execution_count": 17,
   "metadata": {},
   "outputs": [],
   "source": [
    "arr_band = rasters['Communityfeatures'].GetRasterBand(1).ReadAsArray()\n",
    "final_raster = arr_band*weight"
   ]
  },
  {
   "cell_type": "code",
   "execution_count": 18,
   "metadata": {},
   "outputs": [],
   "source": [
    "for criteria in rasters.keys():\n",
    "    if criteria != 'Communityfeatures':\n",
    "        final_raster += rasters[criteria].GetRasterBand(1).ReadAsArray() * weight\n",
    "    "
   ]
  },
  {
   "cell_type": "markdown",
   "metadata": {},
   "source": [
    "# Zonal statiscts"
   ]
  },
  {
   "cell_type": "code",
   "execution_count": 169,
   "metadata": {},
   "outputs": [],
   "source": [
    "final_ds = rio.open('final_raster.tiff')\n",
    "grids_ds = rio.open('raster_norm/CuttingGrids_norm.tif')"
   ]
  },
  {
   "cell_type": "code",
   "execution_count": 183,
   "metadata": {},
   "outputs": [],
   "source": [
    "final_arr = final_ds.read().copy().astype(float)\n",
    "grids_arr = grids_ds.read().copy().astype(float)"
   ]
  },
  {
   "cell_type": "code",
   "execution_count": 184,
   "metadata": {},
   "outputs": [
    {
     "data": {
      "text/plain": [
       "((1, 554, 575), (1, 554, 575))"
      ]
     },
     "execution_count": 184,
     "metadata": {},
     "output_type": "execute_result"
    }
   ],
   "source": [
    "final_arr.shape, grids_arr.shape"
   ]
  },
  {
   "cell_type": "code",
   "execution_count": 142,
   "metadata": {},
   "outputs": [],
   "source": [
    "for grid_number in range(len(grids_arr[0])):\n",
    "    grids_arr[0][grid_number] = (np.average(grids_arr[0][grid_number]) + np.average(final_arr[0][grid_number]))/2"
   ]
  },
  {
   "cell_type": "code",
   "execution_count": 187,
   "metadata": {},
   "outputs": [],
   "source": [
    "with rio.open('zonal_final_222244.tiff', 'w', \n",
    "              driver=grids_ds.driver,\n",
    "              height=grids_ds.height,\n",
    "              width=grids_ds.width,\n",
    "              count=grids_ds.count,\n",
    "              crs=grids_ds.crs,\n",
    "              transform=grids_ds.transform,\n",
    "              dtype=grids_ds.dtypes[0]) as dst:\n",
    "    dst.write(grids_arr)\n",
    "    "
   ]
  },
  {
   "cell_type": "code",
   "execution_count": null,
   "metadata": {},
   "outputs": [],
   "source": []
  },
  {
   "cell_type": "markdown",
   "metadata": {},
   "source": [
    "# Final Result "
   ]
  },
  {
   "cell_type": "code",
   "execution_count": 19,
   "metadata": {},
   "outputs": [],
   "source": [
    "final_ds = gdal.GetDriverByName('GTiff').Create(\"final_raster.tiff\", X_RES, Y_RES, 1, gdal.GDT_Byte)"
   ]
  },
  {
   "cell_type": "code",
   "execution_count": 20,
   "metadata": {},
   "outputs": [
    {
     "data": {
      "text/plain": [
       "0"
      ]
     },
     "execution_count": 20,
     "metadata": {},
     "output_type": "execute_result"
    }
   ],
   "source": [
    "final_ds.SetGeoTransform(rasters['Communityfeatures'].GetGeoTransform())\n",
    "final_ds.SetProjection(rasters['Communityfeatures'].GetProjection())"
   ]
  },
  {
   "cell_type": "code",
   "execution_count": 21,
   "metadata": {},
   "outputs": [],
   "source": [
    "final_band = final_ds.GetRasterBand(1)\n",
    "final_band.SetNoDataValue(NO_DATA_VALUE)\n",
    "final_band.WriteArray(final_raster, 0, 0)\n",
    "final_band.FlushCache()"
   ]
  },
  {
   "cell_type": "code",
   "execution_count": 22,
   "metadata": {},
   "outputs": [],
   "source": [
    "for file in rasters.values():\n",
    "    del file\n",
    "    \n",
    "del final_ds\n",
    "del final_band"
   ]
  },
  {
   "cell_type": "code",
   "execution_count": null,
   "metadata": {},
   "outputs": [],
   "source": []
  }
 ],
 "metadata": {
  "kernelspec": {
   "display_name": "Python 3.10.4 64-bit",
   "language": "python",
   "name": "python3"
  },
  "language_info": {
   "codemirror_mode": {
    "name": "ipython",
    "version": 3
   },
   "file_extension": ".py",
   "mimetype": "text/x-python",
   "name": "python",
   "nbconvert_exporter": "python",
   "pygments_lexer": "ipython3",
   "version": "3.10.4"
  },
  "orig_nbformat": 4,
  "vscode": {
   "interpreter": {
    "hash": "aad551c282902343c4c10fb7f8dffd017e1e08d57377550a9bcf3bad6c731bf1"
   }
  }
 },
 "nbformat": 4,
 "nbformat_minor": 2
}
